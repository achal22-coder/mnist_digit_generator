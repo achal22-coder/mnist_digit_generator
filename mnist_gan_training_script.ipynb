{
 "cells": [
  {
   "cell_type": "markdown",
   "metadata": {},
   "source": [
    "# GAN Training Script for MNIST (generator.pth output)"
   ]
  },
  {
   "cell_type": "code",
   "execution_count": null,
   "metadata": {},
   "outputs": [],
   "source": [
    "import torch
",
    "import torch.nn as nn
",
    "import torchvision
",
    "import torchvision.transforms as transforms
",
    "from torch.utils.data import DataLoader
",
    "
",
    "# Generator
",
    "class Generator(nn.Module):
",
    "    def __init__(self, latent_dim=100, num_classes=10):
",
    "        super().__init__()
",
    "        self.label_emb = nn.Embedding(num_classes, num_classes)
",
    "        self.model = nn.Sequential(
",
    "            nn.Linear(latent_dim + num_classes, 128),
",
    "            nn.LeakyReLU(0.2),
",
    "            nn.Linear(128, 256),
",
    "            nn.BatchNorm1d(256, 0.8),
",
    "            nn.LeakyReLU(0.2),
",
    "            nn.Linear(256, 512),
",
    "            nn.BatchNorm1d(512, 0.8),
",
    "            nn.LeakyReLU(0.2),
",
    "            nn.Linear(512, 784),
",
    "            nn.Tanh()
",
    "        )
",
    "
",
    "    def forward(self, noise, labels):
",
    "        gen_input = torch.cat((noise, self.label_emb(labels)), -1)
",
    "        img = self.model(gen_input)
",
    "        return img.view(img.size(0), 1, 28, 28)
",
    "
",
    "# Discriminator
",
    "class Discriminator(nn.Module):
",
    "    def __init__(self):
",
    "        super().__init__()
",
    "        self.model = nn.Sequential(
",
    "            nn.Linear(28*28 + 10, 512),
",
    "            nn.LeakyReLU(0.2),
",
    "            nn.Linear(512, 256),
",
    "            nn.LeakyReLU(0.2),
",
    "            nn.Linear(256, 1),
",
    "            nn.Sigmoid()
",
    "        )
",
    "
",
    "    def forward(self, img, labels):
",
    "        d_in = torch.cat((img.view(img.size(0), -1), nn.functional.one_hot(labels, 10).float()), -1)
",
    "        return self.model(d_in)
",
    "
",
    "# Data and device
",
    "transform = transforms.Compose([
",
    "    transforms.ToTensor(),
",
    "    transforms.Normalize([0.5], [0.5])
",
    "])
",
    "mnist = torchvision.datasets.MNIST(root='./data', train=True, transform=transform, download=True)
",
    "dataloader = DataLoader(mnist, batch_size=64, shuffle=True)
",
    "
",
    "device = torch.device("cuda" if torch.cuda.is_available() else "cpu")
",
    "generator = Generator().to(device)
",
    "discriminator = Discriminator().to(device)
",
    "
",
    "# Loss and optimizers
",
    "criterion = nn.BCELoss()
",
    "optimizer_G = torch.optim.Adam(generator.parameters(), lr=0.0002)
",
    "optimizer_D = torch.optim.Adam(discriminator.parameters(), lr=0.0002)
",
    "
",
    "# Training loop
",
    "epochs = 10
",
    "for epoch in range(epochs):
",
    "    for i, (imgs, labels) in enumerate(dataloader):
",
    "        batch_size = imgs.size(0)
",
    "        real = torch.ones(batch_size, 1).to(device)
",
    "        fake = torch.zeros(batch_size, 1).to(device)
",
    "
",
    "        real_imgs = imgs.to(device)
",
    "        labels = labels.to(device)
",
    "
",
    "        # Train Generator
",
    "        optimizer_G.zero_grad()
",
    "        z = torch.randn(batch_size, 100).to(device)
",
    "        gen_labels = torch.randint(0, 10, (batch_size,)).to(device)
",
    "        gen_imgs = generator(z, gen_labels)
",
    "        validity = discriminator(gen_imgs, gen_labels)
",
    "        g_loss = criterion(validity, real)
",
    "        g_loss.backward()
",
    "        optimizer_G.step()
",
    "
",
    "        # Train Discriminator
",
    "        optimizer_D.zero_grad()
",
    "        real_validity = discriminator(real_imgs, labels)
",
    "        d_real_loss = criterion(real_validity, real)
",
    "
",
    "        fake_validity = discriminator(gen_imgs.detach(), gen_labels)
",
    "        d_fake_loss = criterion(fake_validity, fake)
",
    "
",
    "        d_loss = (d_real_loss + d_fake_loss) / 2
",
    "        d_loss.backward()
",
    "        optimizer_D.step()
",
    "
",
    "    print(f"[Epoch {epoch+1}/{epochs}] D loss: {d_loss.item():.4f} | G loss: {g_loss.item():.4f}")
",
    "
",
    "# Save generator
",
    "torch.save(generator.state_dict(), "generator.pth")
",
    "print("✅ Generator saved as generator.pth")"
   ]
  }
 ],
 "metadata": {
  "kernelspec": {
   "display_name": "Python 3",
   "language": "python",
   "name": "python3"
  },
  "language_info": {
   "name": "python",
   "version": ""
  }
 },
 "nbformat": 4,
 "nbformat_minor": 5
}